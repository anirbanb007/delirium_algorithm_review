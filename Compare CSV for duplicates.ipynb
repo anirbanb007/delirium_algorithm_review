{
 "cells": [
  {
   "cell_type": "code",
   "execution_count": 1,
   "metadata": {},
   "outputs": [],
   "source": [
    "import pandas as pd"
   ]
  },
  {
   "cell_type": "code",
   "execution_count": 4,
   "metadata": {},
   "outputs": [],
   "source": [
    "def compare_dois(csv1_df, csv2_df, start_year=2019):\n",
    "    \"\"\"\n",
    "    Compare DOIs between two dataframes and identify unique entries in each.\n",
    "    Filters second dataframe to include only entries from specified start year onwards.\n",
    "    \n",
    "    Parameters:\n",
    "    csv1_df (pandas.DataFrame): First dataframe with DOI column\n",
    "    csv2_df (pandas.DataFrame): Second dataframe with DOI column\n",
    "    start_year (int): Starting year for filtering (default: 2019)\n",
    "    \n",
    "    Returns:\n",
    "    pandas.DataFrame: A comparison dataframe showing which DOIs are unique to each source\n",
    "    \"\"\"\n",
    "    # Filter CSV2 to include only entries from start_year onwards\n",
    "    csv2_df_filtered = csv2_df[csv2_df['Year'] >= start_year].copy()\n",
    "    \n",
    "    # Create sets of DOIs from each dataframe\n",
    "    dois_csv1 = set(csv1_df['DOI'].dropna())\n",
    "    dois_csv2 = set(csv2_df_filtered['DOI'].dropna())\n",
    "    \n",
    "    # Find unique DOIs in each set\n",
    "    unique_to_csv1 = dois_csv1 - dois_csv2\n",
    "    unique_to_csv2 = dois_csv2 - dois_csv1\n",
    "    \n",
    "    # Create a list to store results\n",
    "    comparison_results = []\n",
    "    \n",
    "    # Add entries unique to CSV1\n",
    "    for doi in unique_to_csv1:\n",
    "        paper = csv1_df[csv1_df['DOI'] == doi].iloc[0]\n",
    "        comparison_results.append({\n",
    "            'DOI': doi,\n",
    "            'Source': 'CSV1 Only',\n",
    "            'Title': paper['Title'],\n",
    "            'Year': paper['Year'],\n",
    "            'Authors': paper['Authors'] if 'Authors' in paper else None\n",
    "        })\n",
    "    \n",
    "    # Add entries unique to CSV2\n",
    "    for doi in unique_to_csv2:\n",
    "        paper = csv2_df_filtered[csv2_df_filtered['DOI'] == doi].iloc[0]\n",
    "        comparison_results.append({\n",
    "            'DOI': doi,\n",
    "            'Source': 'CSV2 Only',\n",
    "            'Title': paper['Title'],\n",
    "            'Year': paper['Year'],\n",
    "            'Authors': paper['Author'] if 'Author' in paper else None\n",
    "        })\n",
    "    \n",
    "    # Create comparison dataframe\n",
    "    comparison_df = pd.DataFrame(comparison_results)\n",
    "    \n",
    "    # Add summary statistics\n",
    "    print(f\"Year filter applied: {start_year} onwards\")\n",
    "    print(f\"Total entries in CSV1: {len(csv1_df)}\")\n",
    "    print(f\"Total entries in CSV2 (after year filter): {len(csv2_df_filtered)}\")\n",
    "    print(f\"Total unique DOIs in CSV1: {len(dois_csv1)}\")\n",
    "    print(f\"Total unique DOIs in CSV2 (after year filter): {len(dois_csv2)}\")\n",
    "    print(f\"DOIs unique to CSV1: {len(unique_to_csv1)}\")\n",
    "    print(f\"DOIs unique to CSV2: {len(unique_to_csv2)}\")\n",
    "    print(f\"DOIs common to both: {len(dois_csv1.intersection(dois_csv2))}\")\n",
    "    \n",
    "    return comparison_df"
   ]
  },
  {
   "cell_type": "code",
   "execution_count": null,
   "metadata": {},
   "outputs": [],
   "source": [
    "# Example usage:\n",
    "csv1_df = pd.read_csv(\"csv1.csv\")\n",
    "csv2_df = pd.read_csv(\"csv2.csv\")"
   ]
  },
  {
   "cell_type": "code",
   "execution_count": 6,
   "metadata": {},
   "outputs": [],
   "source": [
    "# Ensure Year column is numeric\n",
    "csv1_df['Year'] = pd.to_numeric(csv1_df['Year'], errors='coerce')\n",
    "csv2_df['Year'] = pd.to_numeric(csv2_df['Year'], errors='coerce')"
   ]
  },
  {
   "cell_type": "code",
   "execution_count": null,
   "metadata": {},
   "outputs": [],
   "source": [
    "comparison_df = compare_dois(csv1_df, csv2_df, start_year=2019)"
   ]
  },
  {
   "cell_type": "code",
   "execution_count": 8,
   "metadata": {},
   "outputs": [],
   "source": [
    "# Add DOI link column\n",
    "comparison_df['DOI_Link'] = comparison_df['DOI'].apply(lambda x: f'https://doi.org/{x}' if x else '')"
   ]
  },
  {
   "cell_type": "code",
   "execution_count": 10,
   "metadata": {},
   "outputs": [],
   "source": [
    "# Select and reorder columns, excluding abstract\n",
    "comparison_list_df = comparison_df[['Authors', 'Year', 'Title', 'Source', 'DOI_Link']]"
   ]
  },
  {
   "cell_type": "code",
   "execution_count": null,
   "metadata": {},
   "outputs": [],
   "source": [
    "# Export to CSV\n",
    "csv_path = 'comparison_list.csv'\n",
    "comparison_list_df.to_csv(csv_path, index=False)\n",
    "print(f\"\\nExported to {csv_path}\")"
   ]
  }
 ],
 "metadata": {
  "kernelspec": {
   "display_name": "Python 3",
   "language": "python",
   "name": "python3"
  },
  "language_info": {
   "codemirror_mode": {
    "name": "ipython",
    "version": 3
   },
   "file_extension": ".py",
   "mimetype": "text/x-python",
   "name": "python",
   "nbconvert_exporter": "python",
   "pygments_lexer": "ipython3",
   "version": "3.13.0"
  }
 },
 "nbformat": 4,
 "nbformat_minor": 2
}
